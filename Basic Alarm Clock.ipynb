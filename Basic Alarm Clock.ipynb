{
 "cells": [
  {
   "cell_type": "code",
   "execution_count": 4,
   "id": "b7265720-0e2c-42c0-9a07-1c86e54cda5a",
   "metadata": {},
   "outputs": [
    {
     "name": "stdout",
     "output_type": "stream",
     "text": [
      "Welcome to the Alarm Clock!\n",
      "Alarm set for 14:00:00\n",
      "Wake Up!\n",
      "Press 's' to stop the alarm sound.\n",
      "Alarm stopped.\n"
     ]
    }
   ],
   "source": [
    "import time\n",
    "import datetime\n",
    "import os\n",
    "import pygame\n",
    "import threading\n",
    "\n",
    "# Function to set the alarm\n",
    "def set_alarm(alarm_time):\n",
    "    while True:\n",
    "        current_time = datetime.datetime.now().strftime(\"%H:%M:%S\")\n",
    "        if current_time == alarm_time:\n",
    "            print(\"Wake Up!\")\n",
    "            play_alarm_sound()  # Call function to play alarm sound\n",
    "            break\n",
    "        time.sleep(1)  # Check time every second\n",
    "\n",
    "# Function to play the alarm sound\n",
    "def play_alarm_sound():\n",
    "    try:\n",
    "        # Check if pygame is already initialized\n",
    "        if not pygame.mixer.get_init():\n",
    "            pygame.mixer.init()\n",
    "\n",
    "        # Load and play the alarm sound file (replace with your own file path)\n",
    "        pygame.mixer.music.load(\"Janji & Johnning - Nostalgia [NCS Release].mp3\")\n",
    "        pygame.mixer.music.play()\n",
    "        print(\"Press 's' to stop the alarm sound.\")\n",
    "        # Wait for the user to press 's' to stop the alarm sound\n",
    "        while pygame.mixer.music.get_busy():\n",
    "            if input() == 's':\n",
    "                pygame.mixer.music.stop()\n",
    "                print(\"Alarm stopped.\")\n",
    "                break\n",
    "\n",
    "    except Exception as e:\n",
    "        print(f\"Error playing alarm sound: {e}\")\n",
    "\n",
    "# Main function to get user input and start the alarm\n",
    "def main():\n",
    "    print(\"Welcome to the Alarm Clock!\")\n",
    "    alarm_hour = int(input(\"Enter the hour of the alarm (0-23): \"))\n",
    "    alarm_minute = int(input(\"Enter the minute of the alarm (0-59): \"))\n",
    "    \n",
    "    # Validate user input\n",
    "    if 0 <= alarm_hour < 24 and 0 <= alarm_minute < 60:\n",
    "        alarm_time = f\"{alarm_hour:02}:{alarm_minute:02}:00\"  # Format time as HH:MM:SS\n",
    "        print(f\"Alarm set for {alarm_time}\")\n",
    "        set_alarm(alarm_time)\n",
    "    else:\n",
    "        print(\"Invalid input. Please enter a valid time.\")\n",
    "        return\n",
    "if __name__ == \"__main__\":\n",
    "    main()"
   ]
  },
  {
   "cell_type": "code",
   "execution_count": 5,
   "id": "4e0ec3be-76e2-4e60-afad-06d1a8fe24e3",
   "metadata": {},
   "outputs": [
    {
     "name": "stdout",
     "output_type": "stream",
     "text": [
      "Collecting pygame\n",
      "  Using cached pygame-2.6.0-cp311-cp311-win_amd64.whl.metadata (13 kB)\n",
      "Using cached pygame-2.6.0-cp311-cp311-win_amd64.whl (10.8 MB)\n",
      "Installing collected packages: pygame\n",
      "Successfully installed pygame-2.6.0\n"
     ]
    }
   ],
   "source": [
    "# installations \n",
    "!pip install pygame\n"
   ]
  },
  {
   "cell_type": "code",
   "execution_count": null,
   "id": "d0270984-2440-4544-82f0-05f0886a6305",
   "metadata": {},
   "outputs": [],
   "source": []
  }
 ],
 "metadata": {
  "kernelspec": {
   "display_name": "Python 3 (ipykernel)",
   "language": "python",
   "name": "python3"
  },
  "language_info": {
   "codemirror_mode": {
    "name": "ipython",
    "version": 3
   },
   "file_extension": ".py",
   "mimetype": "text/x-python",
   "name": "python",
   "nbconvert_exporter": "python",
   "pygments_lexer": "ipython3",
   "version": "3.11.1"
  }
 },
 "nbformat": 4,
 "nbformat_minor": 5
}
