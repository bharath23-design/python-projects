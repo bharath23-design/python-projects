{
 "cells": [
  {
   "cell_type": "markdown",
   "id": "b723d71f-4187-49aa-b669-6763bd8cf752",
   "metadata": {},
   "source": [
    "# Project Flow\n",
    "- importing the necessary libraries\n",
    "- Define the TodoApp Class\n",
    "- 1 Entry,1 list-box ,3 Buttons elements\n",
    "- creating populate_listbox() ,add_task(),mark_completed(), remove_task() functions\n",
    "- Adding all into one cell"
   ]
  },
  {
   "attachments": {
    "fc5e5562-1551-42a6-ace7-ba0076ce657a.png": {
     "image/png": "[encoded data removed]"
    }
   },
   "cell_type": "markdown",
   "id": "881d2944-aabf-4716-80f1-89f98a2df68d",
   "metadata": {},
   "source": [
    "![Screenshot 2024-06-22 111752.png](attachment:fc5e5562-1551-42a6-ace7-ba0076ce657a.png)"
   ]
  },
  {
   "cell_type": "code",
   "execution_count": 39,
   "id": "33d17d12-199c-4503-94be-6f49d09ca62b",
   "metadata": {},
   "outputs": [],
   "source": [
    "import tkinter as tk\n",
    "from tkinter import messagebox\n",
    "\n",
    "class TodoApp:\n",
    "    def __init__(self, master): # default function\n",
    "        self.master = master # main widget or window\n",
    "        self.master.title('Todo App Project by techcodio') # title for the project\n",
    "        self.master.config(bg='#FFFFFF') # setup a background color\n",
    "        self.tasks = [] # take all the tasks\n",
    "\n",
    "        self.task_entry = tk.Entry(master, width=30, bg='white')\n",
    "        self.task_entry.pack(pady=10) # packing this entry \n",
    "\n",
    "        self.add_button = tk.Button(master, text='Add task', command=self.add_task, bg='#4CAF50', fg='White') #\n",
    "        self.add_button.pack(pady=10) # padding y direction\n",
    "\n",
    "        self.task_listbox = tk.Listbox(master, width=50, bg='#E0E0E0') \n",
    "        self.task_listbox.pack(pady=5)\n",
    "        self.complete_button = tk.Button(master, text='Mark as completed',command=self.mark_completed, bg='#2196F3', fg='White')\n",
    "        self.complete_button.pack(pady=5)\n",
    "\n",
    "        self.remove_button = tk.Button(master, text='Remove task',command=self.remove_task, bg='#F44336', fg='white')\n",
    "        self.remove_button.pack(pady=5)\n",
    "\n",
    "    def populate_listbox(self):\n",
    "        self.task_listbox.delete(0, tk.END) # clearing the content of the listbox\n",
    "        for task in self.tasks:\n",
    "            self.task_listbox.insert(tk.END, task) # new add into the populate list box\n",
    "\n",
    "    def add_task(self):\n",
    "        task = self.task_entry.get().strip() # getting the task from entry\n",
    "        if task:\n",
    "            self.tasks.append(task)\n",
    "            self.task_entry.delete(0, tk.END)\n",
    "            self.populate_listbox()\n",
    "        else:\n",
    "            messagebox.showwarning('Warning', 'Task cannot be empty')\n",
    "    def mark_completed(self):\n",
    "        selected_task=self.task_listbox.curselection()\n",
    "        if selected_task:\n",
    "            index=selected_task[0]\n",
    "            self.tasks[index]=f'[completed] {self.tasks[index]}'\n",
    "            self.populate_listbox()\n",
    "        else:\n",
    "            messagebox.showwarning('Warning','Please select a task to mark as completed')\n",
    "    def remove_task(self):\n",
    "         selected_task=self.task_listbox.curselection()\n",
    "         if selected_task:\n",
    "            index=selected_task[0]\n",
    "            del self.tasks[index] \n",
    "            self.populate_listbox()\n",
    "         else:\n",
    "            messagebox.showwarning('Warning','Please select a task to remove') \n",
    "def main():\n",
    "    root = tk.Tk()\n",
    "    app = TodoApp(root)\n",
    "    root.mainloop()\n",
    "\n",
    "if __name__ == '__main__':\n",
    "    main()\n"
   ]
  },
  {
   "cell_type": "code",
   "execution_count": null,
   "id": "c52f1853-1503-42d9-9e04-0172237329fd",
   "metadata": {},
   "outputs": [],
   "source": []
  },
  {
   "cell_type": "code",
   "execution_count": null,
   "id": "034d6d1e-652e-459f-8084-a020e5a203f5",
   "metadata": {},
   "outputs": [],
   "source": []
  },
  {
   "cell_type": "code",
   "execution_count": null,
   "id": "c0b4ecf3-11e1-41e2-ad84-711a538a22bb",
   "metadata": {},
   "outputs": [],
   "source": []
  },
  {
   "cell_type": "code",
   "execution_count": null,
   "id": "aa064951-ef9b-429a-b797-750319b6b2a9",
   "metadata": {},
   "outputs": [],
   "source": []
  },
  {
   "cell_type": "code",
   "execution_count": null,
   "id": "cc0d1b53-af8d-40d6-bc71-28a97c53dcd2",
   "metadata": {},
   "outputs": [],
   "source": []
  },
  {
   "cell_type": "code",
   "execution_count": null,
   "id": "fdc5e287-c608-4131-bd3f-fc3d081aad9e",
   "metadata": {},
   "outputs": [],
   "source": []
  },
  {
   "cell_type": "code",
   "execution_count": null,
   "id": "0450eaea-c718-400e-9c62-885cf03502d3",
   "metadata": {},
   "outputs": [],
   "source": []
  },
  {
   "cell_type": "code",
   "execution_count": null,
   "id": "9c0c6424-1a57-45a0-9315-821ea9f1cb0d",
   "metadata": {},
   "outputs": [],
   "source": []
  },
  {
   "cell_type": "code",
   "execution_count": null,
   "id": "464da599-89c0-4a0a-87fe-b569ca8ee5fb",
   "metadata": {},
   "outputs": [],
   "source": []
  },
  {
   "cell_type": "code",
   "execution_count": null,
   "id": "e5bd1f11-06a4-4bdf-bfbf-60195da5e0e0",
   "metadata": {},
   "outputs": [],
   "source": []
  }
 ],
 "metadata": {
  "kernelspec": {
   "display_name": "Python 3 (ipykernel)",
   "language": "python",
   "name": "python3"
  },
  "language_info": {
   "codemirror_mode": {
    "name": "ipython",
    "version": 3
   },
   "file_extension": ".py",
   "mimetype": "text/x-python",
   "name": "python",
   "nbconvert_exporter": "python",
   "pygments_lexer": "ipython3",
   "version": "3.11.7"
  }
 },
 "nbformat": 4,
 "nbformat_minor": 5
}
